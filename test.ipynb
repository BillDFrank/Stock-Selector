{
 "cells": [
  {
   "cell_type": "code",
   "execution_count": null,
   "metadata": {},
   "outputs": [
    {
     "name": "stderr",
     "output_type": "stream",
     "text": [
      "Combined results: 100%|██████████| 3/3 [00:00<00:00, 19.29it/s]      \n"
     ]
    },
    {
     "name": "stdout",
     "output_type": "stream",
     "text": [
      "Saved mapping for 39476 rows to data/consolidated_stock_list.csv\n",
      "Processing 8234 tickers...\n"
     ]
    },
    {
     "name": "stderr",
     "output_type": "stream",
     "text": [
      "Fetching IPO Dates:  18%|█▊        | 1442/8234 [06:12<22:05,  5.12it/s] "
     ]
    }
   ],
   "source": [
    "from sec_data_processor import *\n",
    "from stock_utils import *\n",
    "# generate_and_download_filings()\n",
    "generate_cik_ticker_mapping()\n",
    "update_ipo_dates('data/consolidated_stock_list.csv')\n",
    "download_daily_stock_prices()"
   ]
  },
  {
   "cell_type": "code",
   "execution_count": 5,
   "metadata": {},
   "outputs": [
    {
     "name": "stdout",
     "output_type": "stream",
     "text": [
      "Deleted folder for CIK 1022321 (no IPO date)\n",
      "Deleted folder for CIK 1034670 (no IPO date)\n",
      "Deleted folder for CIK 1061219 (no IPO date)\n",
      "Deleted folder for CIK 1063761 (no IPO date)\n",
      "Deleted folder for CIK 1070423 (no IPO date)\n",
      "Deleted folder for CIK 1075415 (no IPO date)\n",
      "Deleted folder for CIK 1078207 (no IPO date)\n",
      "Deleted folder for CIK 11544 (no IPO date)\n",
      "Deleted folder for CIK 1224608 (no IPO date)\n",
      "Deleted folder for CIK 1281895 (no IPO date)\n",
      "Deleted folder for CIK 1338474 (no IPO date)\n",
      "Deleted folder for CIK 1348362 (no IPO date)\n",
      "Deleted folder for CIK 1374881 (no IPO date)\n"
     ]
    },
    {
     "ename": "KeyboardInterrupt",
     "evalue": "",
     "output_type": "error",
     "traceback": [
      "\u001b[1;31m---------------------------------------------------------------------------\u001b[0m",
      "\u001b[1;31mKeyboardInterrupt\u001b[0m                         Traceback (most recent call last)",
      "Cell \u001b[1;32mIn[5], line 40\u001b[0m\n\u001b[0;32m     38\u001b[0m \u001b[38;5;28;01mfor\u001b[39;00m year_folder \u001b[38;5;129;01min\u001b[39;00m os\u001b[38;5;241m.\u001b[39mlistdir(folder_path):\n\u001b[0;32m     39\u001b[0m     year_path \u001b[38;5;241m=\u001b[39m os\u001b[38;5;241m.\u001b[39mpath\u001b[38;5;241m.\u001b[39mjoin(folder_path, year_folder)\n\u001b[1;32m---> 40\u001b[0m     \u001b[38;5;28;01mif\u001b[39;00m \u001b[38;5;129;01mnot\u001b[39;00m \u001b[43mos\u001b[49m\u001b[38;5;241;43m.\u001b[39;49m\u001b[43mpath\u001b[49m\u001b[38;5;241;43m.\u001b[39;49m\u001b[43misdir\u001b[49m\u001b[43m(\u001b[49m\u001b[43myear_path\u001b[49m\u001b[43m)\u001b[49m:\n\u001b[0;32m     41\u001b[0m         \u001b[38;5;28;01mcontinue\u001b[39;00m\n\u001b[0;32m     43\u001b[0m     \u001b[38;5;28;01mtry\u001b[39;00m:\n",
      "File \u001b[1;32mc:\\Users\\willi\\anaconda3\\envs\\gpu\\lib\\genericpath.py:42\u001b[0m, in \u001b[0;36misdir\u001b[1;34m(s)\u001b[0m\n\u001b[0;32m     40\u001b[0m \u001b[38;5;250m\u001b[39m\u001b[38;5;124;03m\"\"\"Return true if the pathname refers to an existing directory.\"\"\"\u001b[39;00m\n\u001b[0;32m     41\u001b[0m \u001b[38;5;28;01mtry\u001b[39;00m:\n\u001b[1;32m---> 42\u001b[0m     st \u001b[38;5;241m=\u001b[39m \u001b[43mos\u001b[49m\u001b[38;5;241;43m.\u001b[39;49m\u001b[43mstat\u001b[49m\u001b[43m(\u001b[49m\u001b[43ms\u001b[49m\u001b[43m)\u001b[49m\n\u001b[0;32m     43\u001b[0m \u001b[38;5;28;01mexcept\u001b[39;00m (\u001b[38;5;167;01mOSError\u001b[39;00m, \u001b[38;5;167;01mValueError\u001b[39;00m):\n\u001b[0;32m     44\u001b[0m     \u001b[38;5;28;01mreturn\u001b[39;00m \u001b[38;5;28;01mFalse\u001b[39;00m\n",
      "\u001b[1;31mKeyboardInterrupt\u001b[0m: "
     ]
    }
   ],
   "source": [
    "import pandas as pd\n",
    "import os\n",
    "import shutil\n",
    "\n",
    "# Step 1: Read the CSV file\n",
    "# Replace the path with your actual CSV file location\n",
    "csv_path = 'C:/Users/willi/Documents/GitHub/Stock-Selector/data/consolidated_stock_list.csv'\n",
    "df = pd.read_csv(csv_path, dtype={'cik': str})\n",
    "\n",
    "# Step 2: Filter rows where ipo_date is \"Not Found\" and get unique CIKs\n",
    "ciks_to_delete = df[df['ipo_date'] == \"Not Found\"]['cik'].unique().tolist()\n",
    "\n",
    "# Step 3: Define the filings directory\n",
    "filings_dir = 'C:/Users/willi/Documents/GitHub/Stock-Selector/data/edgar/filings'\n",
    "\n",
    "# Step 4: Process all CIK folders\n",
    "deleted_cik_count = 0\n",
    "deleted_year_count = 0\n",
    "\n",
    "for cik_folder in os.listdir(filings_dir):\n",
    "    folder_path = os.path.join(filings_dir, cik_folder)\n",
    "    if not os.path.isdir(folder_path):\n",
    "        continue\n",
    "\n",
    "    cik = cik_folder\n",
    "\n",
    "    # Delete entire CIK folder if it has no IPO date\n",
    "    if cik in ciks_to_delete:\n",
    "        try:\n",
    "            shutil.rmtree(folder_path)\n",
    "            deleted_cik_count += 1\n",
    "            print(f\"Deleted folder for CIK {cik} (no IPO date)\")\n",
    "        except Exception as e:\n",
    "            print(f\"Error deleting folder for CIK {cik}: {e}\")\n",
    "        continue  # Move to the next CIK folder\n",
    "\n",
    "    # For CIKs with an IPO date, check year folders\n",
    "    for year_folder in os.listdir(folder_path):\n",
    "        year_path = os.path.join(folder_path, year_folder)\n",
    "        if not os.path.isdir(year_path):\n",
    "            continue\n",
    "\n",
    "        try:\n",
    "            year = int(year_folder)\n",
    "            if year < 2010:\n",
    "                shutil.rmtree(year_path)\n",
    "                deleted_year_count += 1\n",
    "                print(f\"Deleted year folder {year_path} (year < 2010)\")\n",
    "        except ValueError:\n",
    "            print(f\"Skipping non-numeric year folder: {year_folder} in CIK {cik}\")\n",
    "        except Exception as e:\n",
    "            print(f\"Error deleting year folder {year_path}: {e}\")\n",
    "\n",
    "# Step 5: Summary\n",
    "print(f\"Deletion complete. Deleted {deleted_cik_count} CIK folders and {deleted_year_count} year folders.\")"
   ]
  },
  {
   "cell_type": "code",
   "execution_count": null,
   "metadata": {},
   "outputs": [],
   "source": []
  }
 ],
 "metadata": {
  "kernelspec": {
   "display_name": "gpu",
   "language": "python",
   "name": "python3"
  },
  "language_info": {
   "codemirror_mode": {
    "name": "ipython",
    "version": 3
   },
   "file_extension": ".py",
   "mimetype": "text/x-python",
   "name": "python",
   "nbconvert_exporter": "python",
   "pygments_lexer": "ipython3",
   "version": "3.8.17"
  }
 },
 "nbformat": 4,
 "nbformat_minor": 2
}
